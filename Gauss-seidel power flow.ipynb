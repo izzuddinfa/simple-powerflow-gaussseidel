{
 "cells": [
  {
   "cell_type": "code",
   "execution_count": 1,
   "id": "11e16672",
   "metadata": {},
   "outputs": [],
   "source": [
    "import cmath\n",
    "import pandas as pd\n",
    "import numpy as np\n",
    "\n",
    "class data:\n",
    "  def __init__(self, bus, line):\n",
    "    self.bus = bus\n",
    "    self.line = line\n",
    "\n",
    "case = 1\n",
    "if case == 1:\n",
    "    data.bus = pd.DataFrame({'bus': ['bus1', 'bus2', 'bus3'],\n",
    "                         'type': ['slack', 'PV', 'PQ'],\n",
    "                         'p_pu': [np.nan, 150/100, 250/100],\n",
    "                         'q_pu': [np.nan, np.nan, 100/100],\n",
    "                         'v_pu': [1.0, 1.01, np.nan]})\n",
    "    data.line = pd.DataFrame({'from_bus': [0, 0, 1],\n",
    "                              'to_bus': [1, 2, 2],\n",
    "                              'r_pu': [0, 0.01, 0.0125],\n",
    "                              'x_pu': [0.04, 0.03, 0.025]})\n",
    "elif case == 2:\n",
    "    data.bus = pd.DataFrame({'bus': ['bus1', 'bus2', 'bus3'],\n",
    "                         'type': ['slack', 'PQ', 'PV'],\n",
    "                         'p_pu': [np.nan, 400/100, 200/100],\n",
    "                         'q_pu': [np.nan, 250/100, np.nan],\n",
    "                         'v_pu': [1.05, np.nan, 1.04]})\n",
    "    data.line = pd.DataFrame({'from_bus': [0, 0, 1],\n",
    "                              'to_bus': [1, 2, 2],\n",
    "                              'r_pu': [0.02, 0.01, 0.0125],\n",
    "                              'x_pu': [0.04, 0.03, 0.025]})\n"
   ]
  },
  {
   "cell_type": "code",
   "execution_count": 2,
   "id": "22a295d9",
   "metadata": {},
   "outputs": [
    {
     "data": {
      "text/plain": [
       "array([[ 10.-55.j,  -0.+25.j, -10.+30.j],\n",
       "       [ -0.+25.j,  16.-57.j, -16.+32.j],\n",
       "       [-10.+30.j, -16.+32.j,  26.-62.j]])"
      ]
     },
     "execution_count": 2,
     "metadata": {},
     "output_type": "execute_result"
    }
   ],
   "source": [
    "Y = np.zeros([data.bus.shape[0], data.bus.shape[0]]).astype(complex)\n",
    "for irow in range(data.bus.shape[0]):\n",
    "    r_pu = []\n",
    "    x_pu = []\n",
    "    if data.line['r_pu'][(data.line['from_bus']==irow)].shape[0] != 0:\n",
    "        r_pu = data.line['r_pu'][(data.line['from_bus']==irow)].to_list()\n",
    "        x_pu = data.line['x_pu'][(data.line['from_bus']==irow)].to_list()\n",
    "    if data.line['r_pu'][(data.line['to_bus']==irow)].shape[0] != 0:\n",
    "        r_pu = np.append(r_pu, data.line['r_pu'][(data.line['to_bus']==irow)].to_list())\n",
    "        x_pu = np.append(x_pu, data.line['x_pu'][(data.line['to_bus']==irow)].to_list())\n",
    "    Y[irow][irow] = np.sum([1/complex(r_pu[idx], x_pu[idx]) for idx in range(len(r_pu))])\n",
    "    for icol in range(data.bus.shape[0]):\n",
    "        if irow != icol:\n",
    "            try:\n",
    "                r_pu = data.line['r_pu'][(data.line['from_bus']==irow) & (data.line['to_bus']==icol)].item()\n",
    "                x_pu = data.line['x_pu'][(data.line['from_bus']==irow) & (data.line['to_bus']==icol)].item()\n",
    "            except:\n",
    "                r_pu = data.line['r_pu'][(data.line['from_bus']==icol) & (data.line['to_bus']==irow)].item()\n",
    "                x_pu = data.line['x_pu'][(data.line['from_bus']==icol) & (data.line['to_bus']==irow)].item()\n",
    "            z_pu = 1/complex(r_pu, x_pu)\n",
    "            Y[irow][icol] = -z_pu\n",
    "Y"
   ]
  },
  {
   "cell_type": "code",
   "execution_count": 3,
   "id": "03617d3a",
   "metadata": {},
   "outputs": [
    {
     "data": {
      "text/html": [
       "<div>\n",
       "<style scoped>\n",
       "    .dataframe tbody tr th:only-of-type {\n",
       "        vertical-align: middle;\n",
       "    }\n",
       "\n",
       "    .dataframe tbody tr th {\n",
       "        vertical-align: top;\n",
       "    }\n",
       "\n",
       "    .dataframe thead th {\n",
       "        text-align: right;\n",
       "    }\n",
       "</style>\n",
       "<table border=\"1\" class=\"dataframe\">\n",
       "  <thead>\n",
       "    <tr style=\"text-align: right;\">\n",
       "      <th></th>\n",
       "      <th>bus</th>\n",
       "      <th>type</th>\n",
       "      <th>p_pu</th>\n",
       "      <th>q_pu</th>\n",
       "      <th>v_pu</th>\n",
       "    </tr>\n",
       "  </thead>\n",
       "  <tbody>\n",
       "    <tr>\n",
       "      <th>0</th>\n",
       "      <td>bus1</td>\n",
       "      <td>slack</td>\n",
       "      <td>NaN</td>\n",
       "      <td>NaN</td>\n",
       "      <td>1.00</td>\n",
       "    </tr>\n",
       "    <tr>\n",
       "      <th>1</th>\n",
       "      <td>bus2</td>\n",
       "      <td>PV</td>\n",
       "      <td>1.5</td>\n",
       "      <td>NaN</td>\n",
       "      <td>1.01</td>\n",
       "    </tr>\n",
       "    <tr>\n",
       "      <th>2</th>\n",
       "      <td>bus3</td>\n",
       "      <td>PQ</td>\n",
       "      <td>2.5</td>\n",
       "      <td>1.0</td>\n",
       "      <td>NaN</td>\n",
       "    </tr>\n",
       "  </tbody>\n",
       "</table>\n",
       "</div>"
      ],
      "text/plain": [
       "    bus   type  p_pu  q_pu  v_pu\n",
       "0  bus1  slack   NaN   NaN  1.00\n",
       "1  bus2     PV   1.5   NaN  1.01\n",
       "2  bus3     PQ   2.5   1.0   NaN"
      ]
     },
     "execution_count": 3,
     "metadata": {},
     "output_type": "execute_result"
    }
   ],
   "source": [
    "data.bus"
   ]
  },
  {
   "cell_type": "code",
   "execution_count": 4,
   "id": "36f12940",
   "metadata": {},
   "outputs": [
    {
     "data": {
      "text/html": [
       "<div>\n",
       "<style scoped>\n",
       "    .dataframe tbody tr th:only-of-type {\n",
       "        vertical-align: middle;\n",
       "    }\n",
       "\n",
       "    .dataframe tbody tr th {\n",
       "        vertical-align: top;\n",
       "    }\n",
       "\n",
       "    .dataframe thead th {\n",
       "        text-align: right;\n",
       "    }\n",
       "</style>\n",
       "<table border=\"1\" class=\"dataframe\">\n",
       "  <thead>\n",
       "    <tr style=\"text-align: right;\">\n",
       "      <th></th>\n",
       "      <th>from_bus</th>\n",
       "      <th>to_bus</th>\n",
       "      <th>r_pu</th>\n",
       "      <th>x_pu</th>\n",
       "    </tr>\n",
       "  </thead>\n",
       "  <tbody>\n",
       "    <tr>\n",
       "      <th>0</th>\n",
       "      <td>0</td>\n",
       "      <td>1</td>\n",
       "      <td>0.0000</td>\n",
       "      <td>0.040</td>\n",
       "    </tr>\n",
       "    <tr>\n",
       "      <th>1</th>\n",
       "      <td>0</td>\n",
       "      <td>2</td>\n",
       "      <td>0.0100</td>\n",
       "      <td>0.030</td>\n",
       "    </tr>\n",
       "    <tr>\n",
       "      <th>2</th>\n",
       "      <td>1</td>\n",
       "      <td>2</td>\n",
       "      <td>0.0125</td>\n",
       "      <td>0.025</td>\n",
       "    </tr>\n",
       "  </tbody>\n",
       "</table>\n",
       "</div>"
      ],
      "text/plain": [
       "   from_bus  to_bus    r_pu   x_pu\n",
       "0         0       1  0.0000  0.040\n",
       "1         0       2  0.0100  0.030\n",
       "2         1       2  0.0125  0.025"
      ]
     },
     "execution_count": 4,
     "metadata": {},
     "output_type": "execute_result"
    }
   ],
   "source": [
    "data.line"
   ]
  },
  {
   "cell_type": "code",
   "execution_count": 5,
   "id": "877c1879",
   "metadata": {},
   "outputs": [
    {
     "data": {
      "text/plain": [
       "array([[1.    +0.j    , 1.01  +0.j    , 1.    +0.j    ],\n",
       "       [1.    +0.j    , 1.0098+0.0216j, 0.9763-0.0167j],\n",
       "       [1.    +0.j    , 1.01  +0.0085j, 0.9757-0.0239j],\n",
       "       [1.    +0.j    , 1.01  +0.0035j, 0.9757-0.0263j],\n",
       "       [1.    +0.j    , 1.01  +0.0018j, 0.9757-0.0271j],\n",
       "       [1.    +0.j    , 1.01  +0.0013j, 0.9757-0.0274j]])"
      ]
     },
     "metadata": {},
     "output_type": "display_data"
    }
   ],
   "source": [
    "round_number = 4\n",
    "iter_number = 5\n",
    "\n",
    "V = np.zeros([1, data.bus.shape[0]]).astype('complex')\n",
    "Q = np.zeros([1, data.bus.shape[0]])\n",
    "P = np.zeros([1, data.bus.shape[0]])\n",
    "delta = np.zeros([1, data.bus.shape[0]])\n",
    "for i in range(V.shape[1]):\n",
    "    if np.isnan(data.bus['v_pu'][i]):\n",
    "        V[0,i] = complex(1, 0)\n",
    "    else:\n",
    "        V[0,i] = complex(data.bus['v_pu'][i], 0)\n",
    "        \n",
    "for i in range(Q.shape[1]):\n",
    "    if np.isnan(data.bus['q_pu'][i]):\n",
    "        Q[0,i] = np.nan\n",
    "    else:\n",
    "        Q[0,i] = data.bus['q_pu'][i]\n",
    "        P[0,i] = data.bus['p_pu'][i]\n",
    "        \n",
    "for i in range(P.shape[1]):\n",
    "    if np.isnan(data.bus['p_pu'][i]):\n",
    "        P[0,i] = np.nan\n",
    "    else:\n",
    "        P[0,i] = data.bus['p_pu'][i]\n",
    "        \n",
    "for count in range(iter_number):\n",
    "    Q = np.append(Q, np.zeros([1, data.bus.shape[0]]), axis=0)\n",
    "    V = np.append(V, np.zeros([1, data.bus.shape[0]]), axis=0)\n",
    "    for ical in range(data.bus.shape[0]):\n",
    "        if data.bus['type'][ical] == 'PQ':\n",
    "            Q[count+1, ical] = Q[count, ical]\n",
    "            summation = 0\n",
    "            for ioth in range(data.bus.shape[0]):\n",
    "                if ical != ioth:\n",
    "                    if V[count+1, ioth] > 0:\n",
    "                        summation += (-Y[ical,ioth]*V[count+1, ioth])\n",
    "                    else:\n",
    "                        summation += (-Y[ical,ioth]*V[count, ioth])\n",
    "            V[count+1, ical] = (1/Y[ical, ical])*((-complex(P[0, ical], Q[count+1, ical]).conjugate()/V[count, ical].conjugate())+summation)\n",
    "            V[count+1, ical] = np.round(V[count+1, ical], round_number)\n",
    "\n",
    "        elif data.bus['type'][ical] == 'PV':\n",
    "            #Calculate Q\n",
    "            summation = 0\n",
    "            for ioth in range(data.bus.shape[0]):\n",
    "                if V[count+1, ioth] > 0:\n",
    "                    summation += (Y[ical,ioth]*V[count+1, ioth])\n",
    "                else:\n",
    "                    summation += (Y[ical,ioth]*V[count, ioth])\n",
    "                \n",
    "            Q[count+1, ical] = -((V[count, ical].conjugate()*summation).imag)\n",
    "            Q[count+1, ical] = np.round(Q[count+1, ical],  round_number)\n",
    "\n",
    "            #Calculate V\n",
    "            summation = 0\n",
    "            for ioth in range(data.bus.shape[0]):\n",
    "                if ical != ioth:\n",
    "                    if V[count+1, ioth] > 0:\n",
    "                        summation += (-Y[ical,ioth]*V[count+1, ioth])\n",
    "                    else:\n",
    "                        summation += (-Y[ical,ioth]*V[count, ioth])\n",
    "            Vc = (1/Y[ical, ical])*((complex(P[0, ical], Q[count+1, ical]).conjugate()/V[count, ical].conjugate())+summation)\n",
    "            Vc = np.round(Vc, round_number)\n",
    "            fc = Vc.imag\n",
    "            ec = np.sqrt(abs(V[0,ical])**2-fc**2)\n",
    "            V[count+1, ical] = complex(ec,fc)\n",
    "            V[count+1, ical] = np.round(V[count+1, ical],  round_number)\n",
    "\n",
    "        elif data.bus['type'][ical] == 'slack':\n",
    "            V[count+1, ical] = V[count, ical]\n",
    "\n",
    "display(V)"
   ]
  },
  {
   "cell_type": "code",
   "execution_count": 6,
   "id": "b4885284",
   "metadata": {},
   "outputs": [
    {
     "data": {
      "text/plain": [
       "array([[   nan,    nan, 1.    ],\n",
       "       [0.    , 0.5757, 1.    ],\n",
       "       [0.    , 0.7608, 1.    ],\n",
       "       [0.    , 0.8528, 1.    ],\n",
       "       [0.    , 0.8851, 1.    ],\n",
       "       [0.    , 0.8968, 1.    ]])"
      ]
     },
     "execution_count": 6,
     "metadata": {},
     "output_type": "execute_result"
    }
   ],
   "source": [
    "Q"
   ]
  },
  {
   "cell_type": "code",
   "execution_count": null,
   "id": "31a81cf6",
   "metadata": {},
   "outputs": [],
   "source": []
  },
  {
   "cell_type": "code",
   "execution_count": null,
   "id": "c0851873",
   "metadata": {},
   "outputs": [],
   "source": []
  },
  {
   "cell_type": "code",
   "execution_count": null,
   "id": "00fd0aba",
   "metadata": {},
   "outputs": [],
   "source": []
  }
 ],
 "metadata": {
  "kernelspec": {
   "display_name": "Python 3 (ipykernel)",
   "language": "python",
   "name": "python3"
  },
  "language_info": {
   "codemirror_mode": {
    "name": "ipython",
    "version": 3
   },
   "file_extension": ".py",
   "mimetype": "text/x-python",
   "name": "python",
   "nbconvert_exporter": "python",
   "pygments_lexer": "ipython3",
   "version": "3.9.7"
  }
 },
 "nbformat": 4,
 "nbformat_minor": 5
}
